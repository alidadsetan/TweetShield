{
 "cells": [
  {
   "cell_type": "code",
   "execution_count": 29,
   "id": "6f1e74a6-84a0-4212-baaf-119a64add498",
   "metadata": {},
   "outputs": [],
   "source": [
    "import os\n",
    "import pandas as pd"
   ]
  },
  {
   "cell_type": "code",
   "execution_count": 12,
   "id": "77de6c31-1dba-4a59-b0d3-d0c75bd51785",
   "metadata": {},
   "outputs": [],
   "source": [
    "path = \"/projects/privacyllm/tweet_shield_dp_trained_model\""
   ]
  },
  {
   "cell_type": "code",
   "execution_count": 14,
   "id": "ec29285d-bcf7-4b45-b1c4-432ad7c4d75a",
   "metadata": {},
   "outputs": [
    {
     "data": {
      "text/plain": [
       "['/projects/privacyllm/tweet_shield_dp_trained_model/checkpoint-6815/privacy.log',\n",
       " '/projects/privacyllm/tweet_shield_dp_trained_model/checkpoint-12267/privacy.log',\n",
       " '/projects/privacyllm/tweet_shield_dp_trained_model/checkpoint-5452/privacy.log',\n",
       " '/projects/privacyllm/tweet_shield_dp_trained_model/checkpoint-10904/privacy.log',\n",
       " '/projects/privacyllm/tweet_shield_dp_trained_model/checkpoint-9541/privacy.log',\n",
       " '/projects/privacyllm/tweet_shield_dp_trained_model/checkpoint-2726/privacy.log',\n",
       " '/projects/privacyllm/tweet_shield_dp_trained_model/checkpoint-4089/privacy.log',\n",
       " '/projects/privacyllm/tweet_shield_dp_trained_model/checkpoint-8178/privacy.log',\n",
       " '/projects/privacyllm/tweet_shield_dp_trained_model/checkpoint-1363/privacy.log']"
      ]
     },
     "execution_count": 14,
     "metadata": {},
     "output_type": "execute_result"
    }
   ],
   "source": [
    "[f\"{path}/{checkpoint}/privacy.log\" for checkpoint in os.listdir(path)]"
   ]
  },
  {
   "cell_type": "code",
   "execution_count": 19,
   "id": "5fdc398e-962e-4b52-bab4-39e3482c995f",
   "metadata": {},
   "outputs": [],
   "source": [
    "def step(checkpoint):\n",
    "    return int(checkpoint.split(\"-\")[1])"
   ]
  },
  {
   "cell_type": "code",
   "execution_count": 26,
   "id": "8f28609b-9a26-4fa6-bcb2-35dc5f872011",
   "metadata": {},
   "outputs": [
    {
     "name": "stdout",
     "output_type": "stream",
     "text": [
      "Checkpoint checkpoint-1363\n",
      "Checkpoint checkpoint-2726\n",
      "Checkpoint checkpoint-4089\n",
      "Checkpoint checkpoint-5452\n",
      "Checkpoint checkpoint-6815\n",
      "Checkpoint checkpoint-8178\n",
      "Checkpoint checkpoint-9541\n",
      "Checkpoint checkpoint-10904\n",
      "Checkpoint checkpoint-12267\n"
     ]
    }
   ],
   "source": [
    "steps = []\n",
    "checkpoints = []\n",
    "prvs = []\n",
    "rpds = []\n",
    "for checkpoint in sorted(os.listdir(path), key=step):\n",
    "    print(f\"Checkpoint {checkpoint}\")\n",
    "    with open(f\"{path}/{checkpoint}/privacy.log\") as f:\n",
    "        prv = float(f.readline().split(\": \")[1])\n",
    "        rpd = float(f.readline().split(\": \")[1])\n",
    "    steps.append(step(checkpoint))\n",
    "    checkpoints.append(checkpoint)\n",
    "    prvs.append(prv)\n",
    "    rpds.append(rpd)"
   ]
  },
  {
   "cell_type": "code",
   "execution_count": 28,
   "id": "84ecfa3f-aa78-4eb0-a1c1-ceda22312297",
   "metadata": {},
   "outputs": [
    {
     "data": {
      "text/plain": [
       "[1363, 2726, 4089, 5452, 6815, 8178, 9541, 10904, 12267]"
      ]
     },
     "execution_count": 28,
     "metadata": {},
     "output_type": "execute_result"
    }
   ],
   "source": [
    "df = pd.DataFrame({\n",
    "    \"checkpoint\": checkpoints,\n",
    "    \"steps\": steps,\n",
    "    \"prvs\": prvs,\n",
    "    \"rp\n",
    "})"
   ]
  },
  {
   "cell_type": "code",
   "execution_count": null,
   "id": "b33d92ae-96ec-4adb-b373-98b9edcb87b9",
   "metadata": {},
   "outputs": [],
   "source": []
  }
 ],
 "metadata": {
  "kernelspec": {
   "display_name": "Python 3 (ipykernel)",
   "language": "python",
   "name": "python3"
  },
  "language_info": {
   "codemirror_mode": {
    "name": "ipython",
    "version": 3
   },
   "file_extension": ".py",
   "mimetype": "text/x-python",
   "name": "python",
   "nbconvert_exporter": "python",
   "pygments_lexer": "ipython3",
   "version": "3.10.13"
  }
 },
 "nbformat": 4,
 "nbformat_minor": 5
}
